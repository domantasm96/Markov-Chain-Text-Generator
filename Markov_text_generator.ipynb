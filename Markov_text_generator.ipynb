{
 "cells": [
  {
   "cell_type": "code",
   "execution_count": 43,
   "metadata": {},
   "outputs": [],
   "source": [
    "from nltk.tokenize import word_tokenize\n",
    "import random"
   ]
  },
  {
   "cell_type": "markdown",
   "metadata": {},
   "source": [
    "### Reading and preprocessing text file into pairs:"
   ]
  },
  {
   "cell_type": "code",
   "execution_count": 3,
   "metadata": {},
   "outputs": [],
   "source": [
    "text_path = 'english_text.txt'\n",
    "with open(text_path, 'r') as content_file:\n",
    "    content = content_file.read()\n",
    "words = content.split()\n",
    "pairs = [(words[i], words[i+1]) for i in range(len(words) - 1)]"
   ]
  },
  {
   "cell_type": "markdown",
   "metadata": {},
   "source": [
    "### Creating Markov chain states which consist of paired text words"
   ]
  },
  {
   "cell_type": "code",
   "execution_count": 38,
   "metadata": {},
   "outputs": [],
   "source": [
    "states = {}\n",
    "for word1, word2 in pairs:\n",
    "    if(word1 not in states):\n",
    "        states[word1] = []\n",
    "    states[word1].append(word2)"
   ]
  },
  {
   "cell_type": "markdown",
   "metadata": {},
   "source": [
    "### Taking all capital words from the states keys and generating a list"
   ]
  },
  {
   "cell_type": "code",
   "execution_count": 122,
   "metadata": {},
   "outputs": [],
   "source": [
    "upper_words = []\n",
    "for word in list(states.keys()):\n",
    "    if word[0].isupper():\n",
    "        upper_words.append(word)"
   ]
  },
  {
   "cell_type": "markdown",
   "metadata": {},
   "source": [
    "### Selecting the first word and generating an adventure story\n",
    "__word__ - first text word. The first word suppose to start with capital letter otherwise random word from states words dictionary keys is picked. Later this variable will be used to save next story word\n",
    "<br>\n",
    "__words_limit__ - defined a limit of how many words story should be created\n",
    "<br>\n",
    "__p_nextwords__ - List of all possible words that could be added next to __word__\n",
    "<br>\n",
    "__gen_text__ - List where all words are appended\n",
    "<br>\n",
    "__output__ - Generated text"
   ]
  },
  {
   "cell_type": "code",
   "execution_count": 134,
   "metadata": {},
   "outputs": [
    {
     "name": "stdout",
     "output_type": "stream",
     "text": [
      "Tell me to sell,' the little animal hidden among the silver shoes, thinking of?' Alice to them so thin-and the band of the gate at least I advise you need fear for you?' Which shall we live there was only hold of the ladder was soon as Dorothy's waist. There was looking for yourself. I know your clothes.' Quelala walking over with you, said the Wicked Witch actually melting away the King of them had taken advantage of singers. 'You are you, won't you, it's an hour or three little girl to the voice. 'Repeat, You must cross the girl. It is Glinda? inquired Dorothy. I couldn't get over on again. Promptly at the same thing I've got to pay for the poor man, which he is a witch, had jumped down stairs!' 'That was ever be beheaded!' 'What trial one of the conversation. 'Are their turns, quarrelling with a person of sharp little cry with glue to where Dinn may have been walking off the richest Munchkins blue color, and a letter, nearly as sure I should have come to shrink and Toto could, for a crowd of which way home. Perhaps not, could abide figures!' And if the birds with wooden pegs and marshes and ran by this deadly fragrance; but it was handsome and when Dorothy, harshly and shepherds dressed in chains, with one a terrible Beast, said the rest at her slaves of the only difficulty Alice thought Alice said to Kansas for the Tin Woodman and then she was when a great hall, and put a treacle-well-eh, stupid?' 'But perhaps even if she said, and did everything is plenty of the Duchess! Oh my feet and as you think you know, as she was all comfortable, and I'm sure he chopped through, although he was used up on her friends were clasped upon the others in the pool rippling brooks with a wicked one, the Lion gave a great deal of the Tin Woodman, when he answered, I shall find out of course each of the words the raft was also led them after which is protected by he was rather stiffly. When the twinkling begins with us!' 'They aren't you? I lived there, at the end of great roar. Who for each hand. 'And so severely to put the cottage and in this pole is considerably cracked in return. How shall have wasted on in time to the East, when he saw a big clothes and each thinking about and that's respect, I run away from him in asking riddles.-I believe so,' said Dorothy. She could draw water has not being such a foolish Alice!' she had fits, my toes when the Dormouse out of you? asked Dorothy. So they never get back to cry again. 'No, never') '-so you fly, Like a rhinoceros, only yesterday things happening. While the Wizard would not seek me? asked the dark, so badly dented on the Emerald City tomorrow! This made my feet in a Cowardly Lion also felt lonely and Alice was all ran towards the cupboards as possible, the table as she spoke-fancy curtseying as the last remark. 'Then I'll get no sooner had very supple By the Woodman chopped down again, singing a wonderful Cap! The Emerald City. It was green. There is to itself over the bottle was indeed: she appeared again. So she had grown so much matter on, as possible, and wearing a heap before it's at last, and sheep and when they came up at tea-time. Dinah stop to be of the trees, for taking another question, you are the Land of emerald throne, a very politely, 'for her way. So he had worn her child joyfully, I am a long hookah, and found out. She wondered at once crowded round to the little purple china dog in the top of his head clean straw; and Dorothy saw before them. Brains are they started along listening to consider the Duchess took the Caterpillar called the King: 'however, it would be quite away!' There was the Duchess; 'and then said, This will find that makes them the mushroom growing sometimes shorter, until you how to save us. But the Dormouse shook the soldier, and said, but looked at once. She threw pieces of verses.' 'Are their paws. 'And washing?' said the girl at the hill whether he had not quite forgot where we have been that,' the little magic was the rich costume of my being run after them, stopped to others were lying on it was quite as possible, and unlocking the Mouse, in her the loveliest garden you mean you mean,' the Scarecrow when I thought she concluded the end: then made of the people make out of which he certainly too bad! said Boq. Then Oz had come for them freely; and set her fancy, that: they found the best shape, and simply arranged; the baby grunted again, so many years ago, long since her greatest sorrow was smooth, like thunder, he got much sense could understand you,' said Alice. 'I'm not rust. With Dorothy some day, said to say it happens when Dorothy, and another bucket of course,' the Woodman said Alice; 'all I was east and looked at the mallets live here and it was, that she was nearly done, and everyone knew they came from climbing the ten soldiers carrying the Lion to a bird; and looking at one of the Scarecrow, and the Scarecrow stumbled over with straw, with the heart in at her hand, watching the Great and heard the air, but she knows it was playing the Queen's argument with her slaves. Perhaps there seemed just under a wondering what does it enabled him know it, and when he bowed and was green. But the White Rabbit in the stream the first was flying along the jury. They found out of Oz take. Presently they could see Shakespeare, in one hand, and over all a bit of green girl, and the Rabbit say,\n"
     ]
    }
   ],
   "source": [
    "word = upper_words[random.randint(0, len(upper_words) - 1)] if len(upper_words) \\\n",
    "        else list(states.keys())[random.randint(0, len(states.keys()))]\n",
    "words_limit = 1000\n",
    "# word = list(states.keys())[random.randint(0, len(states.keys()))]\n",
    "gen_text = [word]\n",
    "for i in range(words_limit):\n",
    "    p_nextwords = states[word]\n",
    "    next_word = p_nextwords[random.randint(0, len(p_nextwords) - 1)]\n",
    "    gen_text.append(next_word)\n",
    "    word = next_word\n",
    "output = ' '.join(gen_text)\n",
    "print(output)"
   ]
  }
 ],
 "metadata": {
  "kernelspec": {
   "display_name": "Python 3",
   "language": "python",
   "name": "python3"
  },
  "language_info": {
   "codemirror_mode": {
    "name": "ipython",
    "version": 3
   },
   "file_extension": ".py",
   "mimetype": "text/x-python",
   "name": "python",
   "nbconvert_exporter": "python",
   "pygments_lexer": "ipython3",
   "version": "3.6.7"
  }
 },
 "nbformat": 4,
 "nbformat_minor": 2
}
